{
 "cells": [
  {
   "cell_type": "code",
   "execution_count": 10,
   "metadata": {},
   "outputs": [
    {
     "name": "stdout",
     "output_type": "stream",
     "text": [
      "Defaulting to user installation because normal site-packages is not writeable\n",
      "Requirement already satisfied: schedule in c:\\users\\m.danousis\\appdata\\local\\packages\\pythonsoftwarefoundation.python.3.12_qbz5n2kfra8p0\\localcache\\local-packages\\python312\\site-packages (1.2.2)\n",
      "Defaulting to user installation because normal site-packages is not writeable\n",
      "Requirement already satisfied: bs4 in c:\\users\\m.danousis\\appdata\\local\\packages\\pythonsoftwarefoundation.python.3.12_qbz5n2kfra8p0\\localcache\\local-packages\\python312\\site-packages (0.0.2)\n",
      "Requirement already satisfied: beautifulsoup4 in c:\\users\\m.danousis\\appdata\\local\\packages\\pythonsoftwarefoundation.python.3.12_qbz5n2kfra8p0\\localcache\\local-packages\\python312\\site-packages (from bs4) (4.12.3)\n",
      "Requirement already satisfied: soupsieve>1.2 in c:\\users\\m.danousis\\appdata\\local\\packages\\pythonsoftwarefoundation.python.3.12_qbz5n2kfra8p0\\localcache\\local-packages\\python312\\site-packages (from beautifulsoup4->bs4) (2.5)\n",
      "Defaulting to user installation because normal site-packages is not writeable\n",
      "Collecting selenium\n",
      "  Downloading selenium-4.25.0-py3-none-any.whl.metadata (7.1 kB)\n",
      "Requirement already satisfied: urllib3<3,>=1.26 in c:\\users\\m.danousis\\appdata\\local\\packages\\pythonsoftwarefoundation.python.3.12_qbz5n2kfra8p0\\localcache\\local-packages\\python312\\site-packages (from urllib3[socks]<3,>=1.26->selenium) (2.2.1)\n",
      "Collecting trio~=0.17 (from selenium)\n",
      "  Downloading trio-0.26.2-py3-none-any.whl.metadata (8.6 kB)\n",
      "Collecting trio-websocket~=0.9 (from selenium)\n",
      "  Downloading trio_websocket-0.11.1-py3-none-any.whl.metadata (4.7 kB)\n",
      "Requirement already satisfied: certifi>=2021.10.8 in c:\\users\\m.danousis\\appdata\\local\\packages\\pythonsoftwarefoundation.python.3.12_qbz5n2kfra8p0\\localcache\\local-packages\\python312\\site-packages (from selenium) (2024.2.2)\n",
      "Requirement already satisfied: typing_extensions~=4.9 in c:\\users\\m.danousis\\appdata\\local\\packages\\pythonsoftwarefoundation.python.3.12_qbz5n2kfra8p0\\localcache\\local-packages\\python312\\site-packages (from selenium) (4.10.0)\n",
      "Collecting websocket-client~=1.8 (from selenium)\n",
      "  Downloading websocket_client-1.8.0-py3-none-any.whl.metadata (8.0 kB)\n",
      "Collecting attrs>=23.2.0 (from trio~=0.17->selenium)\n",
      "  Downloading attrs-24.2.0-py3-none-any.whl.metadata (11 kB)\n",
      "Collecting sortedcontainers (from trio~=0.17->selenium)\n",
      "  Downloading sortedcontainers-2.4.0-py2.py3-none-any.whl.metadata (10 kB)\n",
      "Requirement already satisfied: idna in c:\\users\\m.danousis\\appdata\\local\\packages\\pythonsoftwarefoundation.python.3.12_qbz5n2kfra8p0\\localcache\\local-packages\\python312\\site-packages (from trio~=0.17->selenium) (3.6)\n",
      "Collecting outcome (from trio~=0.17->selenium)\n",
      "  Downloading outcome-1.3.0.post0-py2.py3-none-any.whl.metadata (2.6 kB)\n",
      "Requirement already satisfied: sniffio>=1.3.0 in c:\\users\\m.danousis\\appdata\\local\\packages\\pythonsoftwarefoundation.python.3.12_qbz5n2kfra8p0\\localcache\\local-packages\\python312\\site-packages (from trio~=0.17->selenium) (1.3.1)\n",
      "Requirement already satisfied: cffi>=1.14 in c:\\users\\m.danousis\\appdata\\local\\packages\\pythonsoftwarefoundation.python.3.12_qbz5n2kfra8p0\\localcache\\local-packages\\python312\\site-packages (from trio~=0.17->selenium) (1.16.0)\n",
      "Collecting wsproto>=0.14 (from trio-websocket~=0.9->selenium)\n",
      "  Downloading wsproto-1.2.0-py3-none-any.whl.metadata (5.6 kB)\n",
      "Collecting pysocks!=1.5.7,<2.0,>=1.5.6 (from urllib3[socks]<3,>=1.26->selenium)\n",
      "  Downloading PySocks-1.7.1-py3-none-any.whl.metadata (13 kB)\n",
      "Requirement already satisfied: pycparser in c:\\users\\m.danousis\\appdata\\local\\packages\\pythonsoftwarefoundation.python.3.12_qbz5n2kfra8p0\\localcache\\local-packages\\python312\\site-packages (from cffi>=1.14->trio~=0.17->selenium) (2.21)\n",
      "Collecting h11<1,>=0.9.0 (from wsproto>=0.14->trio-websocket~=0.9->selenium)\n",
      "  Downloading h11-0.14.0-py3-none-any.whl.metadata (8.2 kB)\n",
      "Downloading selenium-4.25.0-py3-none-any.whl (9.7 MB)\n",
      "   ---------------------------------------- 0.0/9.7 MB ? eta -:--:--\n",
      "   - -------------------------------------- 0.3/9.7 MB ? eta -:--:--\n",
      "   --- ------------------------------------ 0.8/9.7 MB 2.6 MB/s eta 0:00:04\n",
      "   ----- ---------------------------------- 1.3/9.7 MB 2.5 MB/s eta 0:00:04\n",
      "   ------- -------------------------------- 1.8/9.7 MB 2.5 MB/s eta 0:00:04\n",
      "   --------- ------------------------------ 2.4/9.7 MB 2.6 MB/s eta 0:00:03\n",
      "   ---------- ----------------------------- 2.6/9.7 MB 2.6 MB/s eta 0:00:03\n",
      "   -------------- ------------------------- 3.4/9.7 MB 2.5 MB/s eta 0:00:03\n",
      "   --------------- ------------------------ 3.7/9.7 MB 2.4 MB/s eta 0:00:03\n",
      "   ----------------- ---------------------- 4.2/9.7 MB 2.4 MB/s eta 0:00:03\n",
      "   -------------------- ------------------- 5.0/9.7 MB 2.6 MB/s eta 0:00:02\n",
      "   ----------------------- ---------------- 5.8/9.7 MB 2.7 MB/s eta 0:00:02\n",
      "   ------------------------- -------------- 6.3/9.7 MB 2.7 MB/s eta 0:00:02\n",
      "   ----------------------------- ---------- 7.1/9.7 MB 2.7 MB/s eta 0:00:01\n",
      "   ------------------------------- -------- 7.6/9.7 MB 2.7 MB/s eta 0:00:01\n",
      "   --------------------------------- ------ 8.1/9.7 MB 2.7 MB/s eta 0:00:01\n",
      "   ---------------------------------- ----- 8.4/9.7 MB 2.7 MB/s eta 0:00:01\n",
      "   ------------------------------------ --- 8.9/9.7 MB 2.6 MB/s eta 0:00:01\n",
      "   -------------------------------------- - 9.4/9.7 MB 2.6 MB/s eta 0:00:01\n",
      "   ---------------------------------------- 9.7/9.7 MB 2.5 MB/s eta 0:00:00\n",
      "Downloading trio-0.26.2-py3-none-any.whl (475 kB)\n",
      "Downloading trio_websocket-0.11.1-py3-none-any.whl (17 kB)\n",
      "Downloading websocket_client-1.8.0-py3-none-any.whl (58 kB)\n",
      "Downloading attrs-24.2.0-py3-none-any.whl (63 kB)\n",
      "Downloading PySocks-1.7.1-py3-none-any.whl (16 kB)\n",
      "Downloading wsproto-1.2.0-py3-none-any.whl (24 kB)\n",
      "Downloading outcome-1.3.0.post0-py2.py3-none-any.whl (10 kB)\n",
      "Downloading sortedcontainers-2.4.0-py2.py3-none-any.whl (29 kB)\n",
      "Downloading h11-0.14.0-py3-none-any.whl (58 kB)\n",
      "Installing collected packages: sortedcontainers, websocket-client, pysocks, h11, attrs, wsproto, outcome, trio, trio-websocket, selenium\n",
      "  Attempting uninstall: websocket-client\n",
      "    Found existing installation: websocket-client 1.7.0\n",
      "    Uninstalling websocket-client-1.7.0:\n",
      "      Successfully uninstalled websocket-client-1.7.0\n",
      "Successfully installed attrs-24.2.0 h11-0.14.0 outcome-1.3.0.post0 pysocks-1.7.1 selenium-4.25.0 sortedcontainers-2.4.0 trio-0.26.2 trio-websocket-0.11.1 websocket-client-1.8.0 wsproto-1.2.0\n"
     ]
    }
   ],
   "source": [
    "!pip install schedule\n",
    "!pip install bs4\n",
    "!pip install selenium\n"
   ]
  },
  {
   "cell_type": "code",
   "execution_count": 3,
   "metadata": {},
   "outputs": [],
   "source": [
    "#imports\n",
    "import time\n",
    "import requests\n",
    "from bs4 import BeautifulSoup\n",
    "import pandas as pd\n",
    "import schedule"
   ]
  },
  {
   "cell_type": "code",
   "execution_count": 4,
   "metadata": {},
   "outputs": [],
   "source": [
    "# Scraper Function\n",
    "def scrape_moralis():\n",
    "    url = 'https://moralis.com'  # Change to the correct page URL if necessary\n",
    "    response = requests.get(url)\n",
    "    \n",
    "    if response.status_code == 200:\n",
    "        soup = BeautifulSoup(response.content, 'html.parser')\n",
    "        \n",
    "        # Initialize lists to store extracted data\n",
    "        tokens = []\n",
    "        hype_scores = []\n",
    "        rois = []\n",
    "        fdvs = []\n",
    "        coin_ages = []\n",
    "        prices = []\n",
    "\n",
    "        # Example selectors: You need to inspect the page and change them to match the HTML structure\n",
    "        for row in soup.select('table tbody tr'):  # Adjust the selector for rows of the table\n",
    "            token = row.select_one('.token-name').text.strip()  # Example, adjust based on HTML structure\n",
    "            hype_score = row.select_one('.hype-score').text.strip()\n",
    "            roi = row.select_one('.roi').text.strip()\n",
    "            fdv = row.select_one('.fdv').text.strip()\n",
    "            coin_age = row.select_one('.coin-age').text.strip()\n",
    "            price = row.select_one('.price').text.strip()\n",
    "            \n",
    "            # Append the values to lists\n",
    "            tokens.append(token)\n",
    "            hype_scores.append(hype_score)\n",
    "            rois.append(roi)\n",
    "            fdvs.append(fdv)\n",
    "            coin_ages.append(coin_age)\n",
    "            prices.append(price)\n",
    "        \n",
    "        # Create DataFrame\n",
    "        df = pd.DataFrame({\n",
    "            'Token': tokens,\n",
    "            'Hype Score': hype_scores,\n",
    "            'ROI': rois,\n",
    "            'FDV': fdvs,\n",
    "            'Coin Age': coin_ages,\n",
    "            'Price': prices\n",
    "        })\n",
    "        \n",
    "        # Display the dataframe in the notebook for checking\n",
    "        display(df)\n",
    "\n",
    "        # Optionally save to CSV for each run (overwrites each time)\n",
    "        df.to_csv('crypto_data.csv', index=False)\n",
    "        \n",
    "    else:\n",
    "        print(f\"Failed to retrieve data. Status code: {response.status_code}\")"
   ]
  },
  {
   "cell_type": "code",
   "execution_count": 5,
   "metadata": {},
   "outputs": [
    {
     "data": {
      "text/plain": [
       "Every 1 minute do scrape_moralis() (last run: [never], next run: 2024-10-13 14:44:51)"
      ]
     },
     "execution_count": 5,
     "metadata": {},
     "output_type": "execute_result"
    }
   ],
   "source": [
    "# Scheduling the scraping every 5 minutes (for demonstration, can be changed to 1 minute)\n",
    "schedule.every(1).minutes.do(scrape_moralis)"
   ]
  },
  {
   "cell_type": "code",
   "execution_count": 8,
   "metadata": {},
   "outputs": [],
   "source": [
    "# Running the scheduled task in a notebook\n",
    "# Due to the nature of Jupyter, we will simulate running it periodically in cells, rather than a constant loop.\n",
    "def run_scheduled_tasks():\n",
    "    schedule.run_pending()\n",
    "    time.sleep(1)\n"
   ]
  },
  {
   "cell_type": "code",
   "execution_count": 9,
   "metadata": {},
   "outputs": [
    {
     "name": "stdout",
     "output_type": "stream",
     "text": [
      "Failed to retrieve data. Status code: 403\n"
     ]
    }
   ],
   "source": [
    "run_scheduled_tasks()"
   ]
  }
 ],
 "metadata": {
  "kernelspec": {
   "display_name": "Python 3",
   "language": "python",
   "name": "python3"
  },
  "language_info": {
   "codemirror_mode": {
    "name": "ipython",
    "version": 3
   },
   "file_extension": ".py",
   "mimetype": "text/x-python",
   "name": "python",
   "nbconvert_exporter": "python",
   "pygments_lexer": "ipython3",
   "version": "3.12.7"
  }
 },
 "nbformat": 4,
 "nbformat_minor": 2
}
